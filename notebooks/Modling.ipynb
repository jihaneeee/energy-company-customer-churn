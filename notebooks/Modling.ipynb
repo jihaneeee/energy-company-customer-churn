{
 "cells": [
  {
   "cell_type": "markdown",
   "id": "7528e5b6",
   "metadata": {},
   "source": [
    "# Machine Learning Modeling\n",
    "\n",
    "---"
   ]
  },
  {
   "cell_type": "code",
   "execution_count": 1,
   "id": "10c00cde",
   "metadata": {},
   "outputs": [],
   "source": [
    "import numpy as np\n",
    "import pandas as pd\n",
    "import matplotlib.pyplot as plt\n",
    "import seaborn as sns\n",
    "\n",
    "from sklearn.model_selection import train_test_split\n",
    "from sklearn.preprocessing import OneHotEncoder, StandardScaler\n",
    "from sklearn.compose import ColumnTransformer\n",
    "from sklearn.pipeline import Pipeline\n",
    "from sklearn.metrics import accuracy_score, precision_score, recall_score, f1_score, classification_report, precision_recall_curve\n",
    "from sklearn.linear_model import LogisticRegression\n",
    "from sklearn.tree import DecisionTreeClassifier\n",
    "from sklearn.ensemble import RandomForestClassifier\n",
    "from sklearn.model_selection import GridSearchCV\n",
    "\n",
    "import joblib\n",
    "\n",
    "# shows plots in jupyter notebook\n",
    "%matplotlib inline\n",
    "\n",
    "# set plot style\n",
    "sns.set(color_codes=True)"
   ]
  },
  {
   "cell_type": "code",
   "execution_count": 2,
   "id": "01601bba",
   "metadata": {},
   "outputs": [
    {
     "name": "stdout",
     "output_type": "stream",
     "text": [
      "Shape of the dataset:  (14606, 18)\n"
     ]
    },
    {
     "data": {
      "text/html": [
       "<div>\n",
       "<style scoped>\n",
       "    .dataframe tbody tr th:only-of-type {\n",
       "        vertical-align: middle;\n",
       "    }\n",
       "\n",
       "    .dataframe tbody tr th {\n",
       "        vertical-align: top;\n",
       "    }\n",
       "\n",
       "    .dataframe thead th {\n",
       "        text-align: right;\n",
       "    }\n",
       "</style>\n",
       "<table border=\"1\" class=\"dataframe\">\n",
       "  <thead>\n",
       "    <tr style=\"text-align: right;\">\n",
       "      <th></th>\n",
       "      <th>cons_12m</th>\n",
       "      <th>cons_gas_12m</th>\n",
       "      <th>off_peak_forecast_energy</th>\n",
       "      <th>off_peak_forecast_power</th>\n",
       "      <th>imp_cons</th>\n",
       "      <th>margin_net_pow_ele</th>\n",
       "      <th>net_margin</th>\n",
       "      <th>pow_max</th>\n",
       "      <th>churn</th>\n",
       "      <th>off_peak_mean_energy</th>\n",
       "      <th>off_peak_mean_power</th>\n",
       "      <th>off_peak_diff_energy</th>\n",
       "      <th>off_peak_diff_power</th>\n",
       "      <th>origin</th>\n",
       "      <th>channel</th>\n",
       "      <th>discount_energy</th>\n",
       "      <th>active_products</th>\n",
       "      <th>antiquity</th>\n",
       "    </tr>\n",
       "  </thead>\n",
       "  <tbody>\n",
       "    <tr>\n",
       "      <th>0</th>\n",
       "      <td>0</td>\n",
       "      <td>54946</td>\n",
       "      <td>0.114481</td>\n",
       "      <td>40.606701</td>\n",
       "      <td>0.00</td>\n",
       "      <td>25.44</td>\n",
       "      <td>678.99</td>\n",
       "      <td>43.648</td>\n",
       "      <td>1</td>\n",
       "      <td>0.124787</td>\n",
       "      <td>40.942265</td>\n",
       "      <td>0.020057</td>\n",
       "      <td>3.700961</td>\n",
       "      <td>lxidpiddsbxsbosboudacockeimpuepw</td>\n",
       "      <td>foosdfpfkusacimwkcsosbicdxkicaua</td>\n",
       "      <td>NO_DISCOUNT</td>\n",
       "      <td>MULTIPLE</td>\n",
       "      <td>RECENT</td>\n",
       "    </tr>\n",
       "    <tr>\n",
       "      <th>1</th>\n",
       "      <td>4660</td>\n",
       "      <td>0</td>\n",
       "      <td>0.145711</td>\n",
       "      <td>44.311378</td>\n",
       "      <td>0.00</td>\n",
       "      <td>16.38</td>\n",
       "      <td>18.89</td>\n",
       "      <td>13.800</td>\n",
       "      <td>0</td>\n",
       "      <td>0.149609</td>\n",
       "      <td>44.311375</td>\n",
       "      <td>-0.003767</td>\n",
       "      <td>0.177779</td>\n",
       "      <td>kamkkxfxxuwbdslkwifmmcsiusiuosws</td>\n",
       "      <td>MISSING</td>\n",
       "      <td>NO_DISCOUNT</td>\n",
       "      <td>ONE</td>\n",
       "      <td>OLD</td>\n",
       "    </tr>\n",
       "    <tr>\n",
       "      <th>2</th>\n",
       "      <td>544</td>\n",
       "      <td>0</td>\n",
       "      <td>0.165794</td>\n",
       "      <td>44.311378</td>\n",
       "      <td>0.00</td>\n",
       "      <td>28.60</td>\n",
       "      <td>6.60</td>\n",
       "      <td>13.856</td>\n",
       "      <td>0</td>\n",
       "      <td>0.170512</td>\n",
       "      <td>44.385450</td>\n",
       "      <td>-0.004670</td>\n",
       "      <td>0.177779</td>\n",
       "      <td>kamkkxfxxuwbdslkwifmmcsiusiuosws</td>\n",
       "      <td>foosdfpfkusacimwkcsosbicdxkicaua</td>\n",
       "      <td>NO_DISCOUNT</td>\n",
       "      <td>ONE</td>\n",
       "      <td>OLD</td>\n",
       "    </tr>\n",
       "    <tr>\n",
       "      <th>3</th>\n",
       "      <td>1584</td>\n",
       "      <td>0</td>\n",
       "      <td>0.146694</td>\n",
       "      <td>44.311378</td>\n",
       "      <td>0.00</td>\n",
       "      <td>30.22</td>\n",
       "      <td>25.46</td>\n",
       "      <td>13.200</td>\n",
       "      <td>0</td>\n",
       "      <td>0.151210</td>\n",
       "      <td>44.400265</td>\n",
       "      <td>-0.004547</td>\n",
       "      <td>0.177779</td>\n",
       "      <td>kamkkxfxxuwbdslkwifmmcsiusiuosws</td>\n",
       "      <td>lmkebamcaaclubfxadlmueccxoimlema</td>\n",
       "      <td>NO_DISCOUNT</td>\n",
       "      <td>ONE</td>\n",
       "      <td>OLD</td>\n",
       "    </tr>\n",
       "    <tr>\n",
       "      <th>4</th>\n",
       "      <td>4425</td>\n",
       "      <td>0</td>\n",
       "      <td>0.116900</td>\n",
       "      <td>40.606701</td>\n",
       "      <td>52.32</td>\n",
       "      <td>44.91</td>\n",
       "      <td>47.98</td>\n",
       "      <td>19.800</td>\n",
       "      <td>0</td>\n",
       "      <td>0.124174</td>\n",
       "      <td>40.688156</td>\n",
       "      <td>-0.006192</td>\n",
       "      <td>0.162916</td>\n",
       "      <td>kamkkxfxxuwbdslkwifmmcsiusiuosws</td>\n",
       "      <td>MISSING</td>\n",
       "      <td>NO_DISCOUNT</td>\n",
       "      <td>ONE</td>\n",
       "      <td>OLD</td>\n",
       "    </tr>\n",
       "  </tbody>\n",
       "</table>\n",
       "</div>"
      ],
      "text/plain": [
       "   cons_12m  cons_gas_12m  off_peak_forecast_energy  off_peak_forecast_power  \\\n",
       "0         0         54946                  0.114481                40.606701   \n",
       "1      4660             0                  0.145711                44.311378   \n",
       "2       544             0                  0.165794                44.311378   \n",
       "3      1584             0                  0.146694                44.311378   \n",
       "4      4425             0                  0.116900                40.606701   \n",
       "\n",
       "   imp_cons  margin_net_pow_ele  net_margin  pow_max  churn  \\\n",
       "0      0.00               25.44      678.99   43.648      1   \n",
       "1      0.00               16.38       18.89   13.800      0   \n",
       "2      0.00               28.60        6.60   13.856      0   \n",
       "3      0.00               30.22       25.46   13.200      0   \n",
       "4     52.32               44.91       47.98   19.800      0   \n",
       "\n",
       "   off_peak_mean_energy  off_peak_mean_power  off_peak_diff_energy  \\\n",
       "0              0.124787            40.942265              0.020057   \n",
       "1              0.149609            44.311375             -0.003767   \n",
       "2              0.170512            44.385450             -0.004670   \n",
       "3              0.151210            44.400265             -0.004547   \n",
       "4              0.124174            40.688156             -0.006192   \n",
       "\n",
       "   off_peak_diff_power                            origin  \\\n",
       "0             3.700961  lxidpiddsbxsbosboudacockeimpuepw   \n",
       "1             0.177779  kamkkxfxxuwbdslkwifmmcsiusiuosws   \n",
       "2             0.177779  kamkkxfxxuwbdslkwifmmcsiusiuosws   \n",
       "3             0.177779  kamkkxfxxuwbdslkwifmmcsiusiuosws   \n",
       "4             0.162916  kamkkxfxxuwbdslkwifmmcsiusiuosws   \n",
       "\n",
       "                            channel discount_energy active_products antiquity  \n",
       "0  foosdfpfkusacimwkcsosbicdxkicaua     NO_DISCOUNT        MULTIPLE    RECENT  \n",
       "1                           MISSING     NO_DISCOUNT             ONE       OLD  \n",
       "2  foosdfpfkusacimwkcsosbicdxkicaua     NO_DISCOUNT             ONE       OLD  \n",
       "3  lmkebamcaaclubfxadlmueccxoimlema     NO_DISCOUNT             ONE       OLD  \n",
       "4                           MISSING     NO_DISCOUNT             ONE       OLD  "
      ]
     },
     "execution_count": 2,
     "metadata": {},
     "output_type": "execute_result"
    }
   ],
   "source": [
    "clients_df = pd.read_csv('../data/processed_data.csv')\n",
    "print('Shape of the dataset: ', clients_df.shape)\n",
    "clients_df.head()"
   ]
  },
  {
   "cell_type": "markdown",
   "id": "e7030ad6",
   "metadata": {},
   "source": [
    "---\n",
    "\n",
    "## Data Preprocessing"
   ]
  },
  {
   "cell_type": "code",
   "execution_count": 3,
   "id": "5c7baf3b",
   "metadata": {},
   "outputs": [],
   "source": [
    "def split_data(X, y):\n",
    "    \"\"\"\n",
    "    Split the data into train and test sets.\n",
    "    \"\"\"\n",
    "    X_train, X_test, y_train, y_test = train_test_split(X, y, test_size=0.2, stratify=y, random_state=42)\n",
    "    \n",
    "    return X_train, X_test, y_train, y_test"
   ]
  },
  {
   "cell_type": "code",
   "execution_count": 4,
   "id": "cff2ca24",
   "metadata": {},
   "outputs": [
    {
     "name": "stdout",
     "output_type": "stream",
     "text": [
      "Shape of the train set:  (11684, 17) (11684,)\n",
      "Shape of the test set:  (2922, 17) (2922,)\n"
     ]
    }
   ],
   "source": [
    "X = clients_df.drop('churn', axis=1)\n",
    "y = clients_df['churn']\n",
    "\n",
    "# apply log transformation\n",
    "X[['cons_12m', 'cons_gas_12m', 'imp_cons', 'pow_max']] = np.log(X[['cons_12m', 'cons_gas_12m', 'imp_cons', 'pow_max']] + 1)\n",
    "\n",
    "# split data into train and test sets\n",
    "X_train, X_test, y_train, y_test = split_data(X, y)\n",
    "print('Shape of the train set: ', X_train.shape, y_train.shape)\n",
    "print('Shape of the test set: ', X_test.shape, y_test.shape)"
   ]
  },
  {
   "cell_type": "code",
   "execution_count": 5,
   "id": "4e38aa17",
   "metadata": {},
   "outputs": [
    {
     "data": {
      "text/plain": [
       "cons_12m                    float64\n",
       "cons_gas_12m                float64\n",
       "off_peak_forecast_energy    float64\n",
       "off_peak_forecast_power     float64\n",
       "imp_cons                    float64\n",
       "margin_net_pow_ele          float64\n",
       "net_margin                  float64\n",
       "pow_max                     float64\n",
       "off_peak_mean_energy        float64\n",
       "off_peak_mean_power         float64\n",
       "off_peak_diff_energy        float64\n",
       "off_peak_diff_power         float64\n",
       "origin                       object\n",
       "channel                      object\n",
       "discount_energy              object\n",
       "active_products              object\n",
       "antiquity                    object\n",
       "dtype: object"
      ]
     },
     "execution_count": 5,
     "metadata": {},
     "output_type": "execute_result"
    }
   ],
   "source": [
    "X.dtypes"
   ]
  },
  {
   "cell_type": "code",
   "execution_count": 6,
   "id": "08852a0b",
   "metadata": {},
   "outputs": [],
   "source": [
    "# create a preprocessor for categorical and numerical features: OHE and Standardization\n",
    "categories = X.select_dtypes(include=['object']).columns.tolist()\n",
    "numerical = X.select_dtypes(include=['float64']).columns.tolist()\n",
    "\n",
    "one_hot_encoder = OneHotEncoder(sparse_output=False, handle_unknown='ignore')\n",
    "standard_scaler = StandardScaler()"
   ]
  },
  {
   "cell_type": "markdown",
   "id": "3fc5ea35",
   "metadata": {},
   "source": [
    "---\n",
    "\n",
    "## Baseline Model\n"
   ]
  },
  {
   "cell_type": "code",
   "execution_count": 12,
   "id": "dd8c4f02",
   "metadata": {},
   "outputs": [],
   "source": [
    "def print_scores(y_true, y_pred):\n",
    "    print(f'Accuacy: {accuracy_score(y_true, y_pred):.2f}')\n",
    "    print(f'Precision: {precision_score(y_true, y_pred, zero_division=0):.2f}')\n",
    "    print(f'Recall: {recall_score(y_true, y_pred, zero_division=0):.2f}')\n",
    "    print(f'F1: {f1_score(y_true, y_pred, zero_division=0):.2f}')"
   ]
  },
  {
   "cell_type": "code",
   "execution_count": 15,
   "id": "fb3cb90a",
   "metadata": {},
   "outputs": [
    {
     "name": "stdout",
     "output_type": "stream",
     "text": [
      "Accuacy: 0.82\n",
      "Precision: 0.11\n",
      "Recall: 0.11\n",
      "F1: 0.11\n"
     ]
    }
   ],
   "source": [
    "# first baseline\n",
    "baseline_1_guesses = np.random.choice([0, 1], size=len(clients_df), p=[.9, .1])\n",
    "print_scores(clients_df.churn, baseline_1_guesses)"
   ]
  },
  {
   "cell_type": "markdown",
   "id": "431d9575",
   "metadata": {},
   "source": [
    "## Logistic Regression\n"
   ]
  },
  {
   "cell_type": "code",
   "execution_count": 20,
   "id": "33e6691f",
   "metadata": {},
   "outputs": [],
   "source": [
    "def try_model(model):\n",
    "    model.fit(X_train, y_train)\n",
    "    y_train_pred = model.predict(X_train)\n",
    "    y_test_pred = model.predict(X_test)\n",
    "    print('Train scores:')\n",
    "    print_scores(y_train, y_train_pred)\n",
    "    print('\\r\\n')\n",
    "    print('Test scores:')\n",
    "    print_scores(y_test, y_test_pred)"
   ]
  },
  {
   "cell_type": "code",
   "execution_count": 21,
   "id": "d8974481",
   "metadata": {},
   "outputs": [
    {
     "name": "stdout",
     "output_type": "stream",
     "text": [
      "Train scores:\n",
      "Accuacy: 0.90\n",
      "Precision: 0.36\n",
      "Recall: 0.01\n",
      "F1: 0.01\n",
      "\n",
      "\n",
      "Test scores:\n",
      "Accuacy: 0.90\n",
      "Precision: 0.00\n",
      "Recall: 0.00\n",
      "F1: 0.00\n"
     ]
    }
   ],
   "source": [
    "lreg = Pipeline([\n",
    "    ('preprocessor', ColumnTransformer([\n",
    "        ('one_hot_encoder', one_hot_encoder, categories),\n",
    "        ('standard_scaler', standard_scaler, numerical)\n",
    "    ])),\n",
    "    ('classifier', LogisticRegression(random_state=42, max_iter=500))\n",
    "])\n",
    "\n",
    "try_model(lreg)"
   ]
  }
 ],
 "metadata": {
  "kernelspec": {
   "display_name": "Python 3",
   "language": "python",
   "name": "python3"
  },
  "language_info": {
   "codemirror_mode": {
    "name": "ipython",
    "version": 3
   },
   "file_extension": ".py",
   "mimetype": "text/x-python",
   "name": "python",
   "nbconvert_exporter": "python",
   "pygments_lexer": "ipython3",
   "version": "3.12.8"
  }
 },
 "nbformat": 4,
 "nbformat_minor": 5
}
